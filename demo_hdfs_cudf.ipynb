{
 "cells": [
  {
   "cell_type": "code",
   "execution_count": null,
   "id": "f5db4f56-fe73-47c3-95c1-594c4da02eff",
   "metadata": {},
   "outputs": [],
   "source": [
    "import awkward as ak\n",
    "import akimbo.cudf\n",
    "import cudf "
   ]
  },
  {
   "cell_type": "code",
   "execution_count": null,
   "id": "7166a867-4004-424c-abd9-8361b10c0197",
   "metadata": {},
   "outputs": [],
   "source": [
    "df = cudf.read_parquet(\"out.parquet\")"
   ]
  },
  {
   "cell_type": "code",
   "execution_count": null,
   "id": "1af3804e-ff2c-4fec-a2fb-d743d359d57c",
   "metadata": {},
   "outputs": [],
   "source": [
    "df"
   ]
  },
  {
   "cell_type": "code",
   "execution_count": null,
   "id": "18f99bfc-f91b-4d18-841c-6e1091869205",
   "metadata": {},
   "outputs": [],
   "source": [
    "df[:1].ak  # NB: doesn't work on zero-length array, schema gets set to nothing!"
   ]
  },
  {
   "cell_type": "code",
   "execution_count": null,
   "id": "5b59b23a-3eb3-4194-b739-798553366e88",
   "metadata": {},
   "outputs": [],
   "source": [
    "nblock = df[\"blocks\"].ak[\"ip\"].ak.num(axis=1)\n",
    "nblock"
   ]
  },
  {
   "cell_type": "code",
   "execution_count": null,
   "id": "05c8abfc-96d8-4ed6-bb06-4d4714ab010b",
   "metadata": {},
   "outputs": [],
   "source": [
    "nblock.value_counts().sort_values(ascending=False).head()"
   ]
  },
  {
   "cell_type": "code",
   "execution_count": null,
   "id": "cf39c48b-6a02-4c06-9deb-6abcc5040a36",
   "metadata": {},
   "outputs": [],
   "source": [
    "# replication factor\n",
    "replication = (df[\"blocks\"]\n",
    " .ak[\"ip\"]\n",
    " .ak.num(axis=2)\n",
    " .ak.flatten()\n",
    ")\n",
    "replication"
   ]
  },
  {
   "cell_type": "code",
   "execution_count": null,
   "id": "9b284577-c7a5-4f3d-8f77-6e3cc75e2afa",
   "metadata": {},
   "outputs": [],
   "source": [
    "%timeit df[\"blocks\"].ak[\"ip\"].ak.num(axis=2).ak.flatten()"
   ]
  },
  {
   "cell_type": "code",
   "execution_count": null,
   "id": "099d1baa-4d24-4276-811e-0dce2be9dd87",
   "metadata": {},
   "outputs": [],
   "source": [
    "%timeit df[\"blocks\"].ak.apply(lambda x: ak.flatten(ak.num(x[\"ip\"], axis=2)))"
   ]
  },
  {
   "cell_type": "code",
   "execution_count": null,
   "id": "30f7fa37-dc88-46b1-b86a-c22bcb407b62",
   "metadata": {},
   "outputs": [],
   "source": [
    "replication.value_counts(dropna=False).head()"
   ]
  },
  {
   "cell_type": "code",
   "execution_count": null,
   "id": "935d2024-a92d-45e9-9609-4ccc3c50b6c9",
   "metadata": {},
   "outputs": [],
   "source": []
  }
 ],
 "metadata": {
  "kernelspec": {
   "display_name": "Python 3 (ipykernel)",
   "language": "python",
   "name": "python3"
  },
  "language_info": {
   "codemirror_mode": {
    "name": "ipython",
    "version": 3
   },
   "file_extension": ".py",
   "mimetype": "text/x-python",
   "name": "python",
   "nbconvert_exporter": "python",
   "pygments_lexer": "ipython3",
   "version": "3.12.0"
  }
 },
 "nbformat": 4,
 "nbformat_minor": 5
}
