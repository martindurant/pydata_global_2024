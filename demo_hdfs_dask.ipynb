{
 "cells": [
  {
   "cell_type": "code",
   "execution_count": null,
   "id": "ae94de86",
   "metadata": {},
   "outputs": [],
   "source": [
    "import awkward as ak\n",
    "import akimbo.dask\n",
    "import dask.dataframe as dd"
   ]
  },
  {
   "cell_type": "code",
   "execution_count": null,
   "id": "87d75b67",
   "metadata": {},
   "outputs": [],
   "source": [
    "df = dd.read_parquet(\"out.parquet\", dtype_backend=\"pyarrow\")"
   ]
  },
  {
   "cell_type": "code",
   "execution_count": null,
   "id": "5fab74ef",
   "metadata": {},
   "outputs": [],
   "source": [
    "df"
   ]
  },
  {
   "cell_type": "code",
   "execution_count": null,
   "id": "d9ca7339",
   "metadata": {},
   "outputs": [],
   "source": [
    "df._meta.ak"
   ]
  },
  {
   "cell_type": "code",
   "execution_count": null,
   "id": "49f74b58",
   "metadata": {},
   "outputs": [],
   "source": [
    "# nblock = df.map_partitions(lambda x: x[\"blocks\"].ak[\"ip\"].ak.num(axis=1))\n",
    "\n",
    "nblock = df[\"blocks\"].ak[\"ip\"].ak.num(axis=1).compute()\n",
    "nblock"
   ]
  },
  {
   "cell_type": "code",
   "execution_count": null,
   "id": "12e13444",
   "metadata": {},
   "outputs": [],
   "source": [
    "nblock.value_counts().head()"
   ]
  },
  {
   "cell_type": "code",
   "execution_count": null,
   "id": "1e0c9658",
   "metadata": {},
   "outputs": [],
   "source": [
    "# replication factor\n",
    "replication = (df[\"blocks\"]\n",
    " .ak[\"ip\"]\n",
    " .ak.num(axis=2)\n",
    " .ak.flatten()\n",
    ")\n",
    "replication.compute().head()"
   ]
  },
  {
   "cell_type": "code",
   "execution_count": null,
   "id": "dd2799b3",
   "metadata": {},
   "outputs": [],
   "source": [
    "# no parallelism on this dataset; this includes loading the data\n",
    "%timeit df[\"blocks\"].ak[\"ip\"].ak.num(axis=2).ak.flatten().compute()"
   ]
  },
  {
   "cell_type": "code",
   "execution_count": null,
   "id": "8f95ef2d",
   "metadata": {},
   "outputs": [],
   "source": [
    "%timeit df[\"blocks\"].ak.apply(lambda x: ak.flatten(ak.num(x[\"ip\"], axis=2))).compute()"
   ]
  },
  {
   "cell_type": "code",
   "execution_count": null,
   "id": "6f8acd82",
   "metadata": {},
   "outputs": [],
   "source": [
    "replication.value_counts().compute()"
   ]
  },
  {
   "cell_type": "code",
   "execution_count": null,
   "id": "057bfafb",
   "metadata": {},
   "outputs": [],
   "source": []
  }
 ],
 "metadata": {
  "kernelspec": {
   "display_name": "Python 3 (ipykernel)",
   "language": "python",
   "name": "python3"
  },
  "language_info": {
   "codemirror_mode": {
    "name": "ipython",
    "version": 3
   },
   "file_extension": ".py",
   "mimetype": "text/x-python",
   "name": "python",
   "nbconvert_exporter": "python",
   "pygments_lexer": "ipython3",
   "version": "3.10.9"
  }
 },
 "nbformat": 4,
 "nbformat_minor": 5
}
