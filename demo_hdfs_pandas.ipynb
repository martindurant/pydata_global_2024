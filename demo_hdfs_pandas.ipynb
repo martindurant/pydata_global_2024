{
 "cells": [
  {
   "cell_type": "code",
   "execution_count": null,
   "id": "ae94de86",
   "metadata": {},
   "outputs": [],
   "source": [
    "import awkward as ak\n",
    "import akimbo.pandas\n",
    "import pandas as pd"
   ]
  },
  {
   "cell_type": "code",
   "execution_count": null,
   "id": "87d75b67",
   "metadata": {},
   "outputs": [],
   "source": [
    "df = pd.read_parquet(\"out.parquet\", dtype_backend=\"pyarrow\")"
   ]
  },
  {
   "cell_type": "code",
   "execution_count": null,
   "id": "5fab74ef",
   "metadata": {},
   "outputs": [],
   "source": [
    "df"
   ]
  },
  {
   "cell_type": "code",
   "execution_count": null,
   "id": "d9ca7339",
   "metadata": {},
   "outputs": [],
   "source": [
    "df[:0].ak"
   ]
  },
  {
   "cell_type": "code",
   "execution_count": null,
   "id": "49f74b58",
   "metadata": {},
   "outputs": [],
   "source": [
    "nblock = df[\"blocks\"].ak[\"ip\"].ak.num(axis=1)\n",
    "nblock"
   ]
  },
  {
   "cell_type": "code",
   "execution_count": null,
   "id": "12e13444",
   "metadata": {},
   "outputs": [],
   "source": [
    "nblock.value_counts().head()"
   ]
  },
  {
   "cell_type": "code",
   "execution_count": null,
   "id": "1e0c9658",
   "metadata": {},
   "outputs": [],
   "source": [
    "# replication factor\n",
    "replication = (df[\"blocks\"]\n",
    " .ak[\"ip\"]\n",
    " .ak.num(axis=2)\n",
    " .ak.flatten()\n",
    ")\n",
    "replication"
   ]
  },
  {
   "cell_type": "code",
   "execution_count": null,
   "id": "dd2799b3",
   "metadata": {},
   "outputs": [],
   "source": [
    "%timeit df[\"blocks\"].ak[\"ip\"].ak.num(axis=2).ak.flatten()"
   ]
  },
  {
   "cell_type": "code",
   "execution_count": null,
   "id": "8f95ef2d",
   "metadata": {},
   "outputs": [],
   "source": [
    "%timeit df[\"blocks\"].ak.apply(lambda x: ak.flatten(ak.num(x[\"ip\"], axis=2)))"
   ]
  },
  {
   "cell_type": "code",
   "execution_count": null,
   "id": "6f8acd82",
   "metadata": {},
   "outputs": [],
   "source": [
    "replication.value_counts().head()"
   ]
  },
  {
   "cell_type": "code",
   "execution_count": null,
   "id": "7d885f5e",
   "metadata": {},
   "outputs": [],
   "source": [
    "# experimental add-on, gives .ak.ip \n",
    "import akimbo_ip"
   ]
  },
  {
   "cell_type": "code",
   "execution_count": null,
   "id": "6243b58e",
   "metadata": {},
   "outputs": [],
   "source": [
    "ips = df[\"blocks\"].ak[\"ip\"]\n",
    "ips.ak.ip.is_global4()  # nothing happens - must be list[4, u8] or bytestring[4]"
   ]
  },
  {
   "cell_type": "code",
   "execution_count": null,
   "id": "427a68ba",
   "metadata": {},
   "outputs": [],
   "source": [
    "def to_fixed(lay, *_, **__):\n",
    "    \"\"\"Make bytestrings into fixed-width\"\"\"\n",
    "    if lay.parameters.get(\"__array__\", \"\") == \"bytestring\":\n",
    "        return lay.to_RegularArray()\n",
    "    \n",
    "ips2 = ips.ak.transform(to_fixed)"
   ]
  },
  {
   "cell_type": "code",
   "execution_count": null,
   "id": "6055eae4",
   "metadata": {},
   "outputs": [],
   "source": [
    "ips2.ak.array.show(type=True)"
   ]
  },
  {
   "cell_type": "code",
   "execution_count": null,
   "id": "b92f67fa",
   "metadata": {},
   "outputs": [],
   "source": [
    "ips2.ak.ip.is_global4().ak.array.show(type=True)"
   ]
  },
  {
   "cell_type": "code",
   "execution_count": null,
   "id": "661046be",
   "metadata": {},
   "outputs": [],
   "source": [
    "ips2[:4].ak.ip.to_string4().tolist()"
   ]
  },
  {
   "cell_type": "code",
   "execution_count": null,
   "id": "7aa31984",
   "metadata": {},
   "outputs": [],
   "source": [
    "import ipaddress\n",
    "%timeit ips2.ak.ip.to_string4()\n",
    "%timeit [[[str(ipaddress.IPv4Address(_)) for _ in inner or []] for inner in outer] for outer in ips2]"
   ]
  },
  {
   "cell_type": "code",
   "execution_count": null,
   "id": "1e7e75ea",
   "metadata": {},
   "outputs": [],
   "source": []
  }
 ],
 "metadata": {
  "kernelspec": {
   "display_name": "Python 3 (ipykernel)",
   "language": "python",
   "name": "python3"
  },
  "language_info": {
   "codemirror_mode": {
    "name": "ipython",
    "version": 3
   },
   "file_extension": ".py",
   "mimetype": "text/x-python",
   "name": "python",
   "nbconvert_exporter": "python",
   "pygments_lexer": "ipython3",
   "version": "3.10.9"
  }
 },
 "nbformat": 4,
 "nbformat_minor": 5
}
