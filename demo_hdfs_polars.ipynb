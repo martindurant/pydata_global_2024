{
 "cells": [
  {
   "cell_type": "code",
   "execution_count": null,
   "id": "ae94de86",
   "metadata": {},
   "outputs": [],
   "source": [
    "import awkward as ak\n",
    "import akimbo.polars\n",
    "import polars as pl"
   ]
  },
  {
   "cell_type": "code",
   "execution_count": null,
   "id": "87d75b67",
   "metadata": {},
   "outputs": [],
   "source": [
    "df = pl.read_parquet(\"out.parquet\")  # always arrow-backed"
   ]
  },
  {
   "cell_type": "code",
   "execution_count": null,
   "id": "5fab74ef",
   "metadata": {},
   "outputs": [],
   "source": [
    "df"
   ]
  },
  {
   "cell_type": "code",
   "execution_count": null,
   "id": "d9ca7339",
   "metadata": {},
   "outputs": [],
   "source": [
    "df[:0].ak"
   ]
  },
  {
   "cell_type": "code",
   "execution_count": null,
   "id": "49f74b58",
   "metadata": {},
   "outputs": [],
   "source": [
    "nblock = df[\"blocks\"].ak[\"ip\"].ak.num(axis=1)\n",
    "nblock"
   ]
  },
  {
   "cell_type": "code",
   "execution_count": null,
   "id": "12e13444",
   "metadata": {},
   "outputs": [],
   "source": [
    "nblock.value_counts().sort(\"count\", descending=True).head()"
   ]
  },
  {
   "cell_type": "code",
   "execution_count": null,
   "id": "1e0c9658",
   "metadata": {},
   "outputs": [],
   "source": [
    "# replication factor\n",
    "replication = (df[\"blocks\"]\n",
    " .ak[\"ip\"]\n",
    " .ak.num(axis=2)\n",
    " .ak.flatten()\n",
    ")\n",
    "replication"
   ]
  },
  {
   "cell_type": "code",
   "execution_count": null,
   "id": "dd2799b3",
   "metadata": {},
   "outputs": [],
   "source": [
    "%timeit df[\"blocks\"].ak[\"ip\"].ak.num(axis=2).ak.flatten()"
   ]
  },
  {
   "cell_type": "code",
   "execution_count": null,
   "id": "8f95ef2d",
   "metadata": {},
   "outputs": [],
   "source": [
    "%timeit df[\"blocks\"].ak.apply(lambda x: ak.flatten(ak.num(x[\"ip\"], axis=2)))"
   ]
  },
  {
   "cell_type": "code",
   "execution_count": null,
   "id": "6f8acd82",
   "metadata": {},
   "outputs": [],
   "source": [
    "replication.value_counts()"
   ]
  },
  {
   "cell_type": "code",
   "execution_count": null,
   "id": "db6c5c0f",
   "metadata": {},
   "outputs": [],
   "source": []
  }
 ],
 "metadata": {
  "kernelspec": {
   "display_name": "Python 3 (ipykernel)",
   "language": "python",
   "name": "python3"
  },
  "language_info": {
   "codemirror_mode": {
    "name": "ipython",
    "version": 3
   },
   "file_extension": ".py",
   "mimetype": "text/x-python",
   "name": "python",
   "nbconvert_exporter": "python",
   "pygments_lexer": "ipython3",
   "version": "3.10.9"
  }
 },
 "nbformat": 4,
 "nbformat_minor": 5
}
