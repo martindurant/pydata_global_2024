{
 "cells": [
  {
   "cell_type": "code",
   "execution_count": null,
   "id": "0b14cb2a",
   "metadata": {},
   "outputs": [],
   "source": [
    "import pandas as pd\n",
    "import akimbo.pandas\n",
    "import numba"
   ]
  },
  {
   "cell_type": "code",
   "execution_count": null,
   "id": "03e2208d",
   "metadata": {},
   "outputs": [],
   "source": [
    "# from https://repo.anaconda.com/pkgs/main/linux-64/repodata.json\n",
    "df = pd.read_parquet(\"repodata.parquet\", dtype_backend=\"pyarrow\")\n",
    "df"
   ]
  },
  {
   "cell_type": "code",
   "execution_count": null,
   "id": "cd5c15a6",
   "metadata": {},
   "outputs": [],
   "source": [
    "df.dtypes"
   ]
  },
  {
   "cell_type": "code",
   "execution_count": null,
   "id": "f1ae99f0",
   "metadata": {},
   "outputs": [],
   "source": [
    "# normal dataframe things - could groupby here\n",
    "df.license_family.str.upper().value_counts()"
   ]
  },
  {
   "cell_type": "code",
   "execution_count": null,
   "id": "29c2b5ab",
   "metadata": {},
   "outputs": [],
   "source": [
    "df.app_cli_opts[~df.app_cli_opts.isnull()][:2].tolist()"
   ]
  },
  {
   "cell_type": "code",
   "execution_count": null,
   "id": "58114244",
   "metadata": {},
   "outputs": [],
   "source": [
    "def num_numpy2(arr):\n",
    "    \"\"\"How many packages mention numpy V2 explicitly\"\"\"\n",
    "    count = 0\n",
    "    for package in arr:\n",
    "        for depends in package:\n",
    "            if (\n",
    "                    depends is not None\n",
    "                    and depends[\"name\"] == \"numpy\"\n",
    "                    and len(depends[\"versions\"]) > 0\n",
    "                    and depends[\"versions\"][0] == 2\n",
    "            ):\n",
    "                count += 1\n",
    "    return count\n",
    "\n",
    "\n",
    "np2 = numba.njit(num_numpy2)\n"
   ]
  },
  {
   "cell_type": "code",
   "execution_count": null,
   "id": "b9e065f6",
   "metadata": {},
   "outputs": [],
   "source": [
    "num_numpy2(df.depends)  # same as .apply or filter/map/sum"
   ]
  },
  {
   "cell_type": "code",
   "execution_count": null,
   "id": "e40e89d0",
   "metadata": {},
   "outputs": [],
   "source": [
    "df.depends.ak.apply(np2)"
   ]
  },
  {
   "cell_type": "code",
   "execution_count": null,
   "id": "d10f2759",
   "metadata": {},
   "outputs": [],
   "source": [
    "%timeit num_numpy2(df.depends)\n",
    "%timeit df.depends.ak.apply(np2)"
   ]
  },
  {
   "cell_type": "code",
   "execution_count": null,
   "id": "06d78c18",
   "metadata": {},
   "outputs": [],
   "source": [
    "df2 = df.explode(\"depends\").depends.apply(pd.Series).rename(columns={\"name\": \"dep_name\"})\n",
    "df2"
   ]
  },
  {
   "cell_type": "code",
   "execution_count": null,
   "id": "dcdba183",
   "metadata": {},
   "outputs": [],
   "source": [
    "df3 = df.join(df2.rename({\"name\": \"dep_name\"}).explode(\"versions\"))"
   ]
  },
  {
   "cell_type": "code",
   "execution_count": null,
   "id": "db19daf9",
   "metadata": {
    "scrolled": true
   },
   "outputs": [],
   "source": [
    "df3"
   ]
  },
  {
   "cell_type": "code",
   "execution_count": null,
   "id": "4efda2a8",
   "metadata": {},
   "outputs": [],
   "source": [
    "print(\"original\", df.memory_usage(deep=True).sum() // 1e6, \"MB\")\n",
    "print(\"exploded\", df3.memory_usage(deep=True).sum() // 1e6, \"MB\")"
   ]
  },
  {
   "cell_type": "code",
   "execution_count": null,
   "id": "81f7c861",
   "metadata": {},
   "outputs": [],
   "source": [
    "%timeit (df3[df3.dep_name == \"numpy\"].groupby(\"build\")[\"versions\"].first() == 2).sum()\n",
    "(df3[df3.dep_name == \"numpy\"].groupby(\"build\")[\"versions\"].first() == 2).sum()"
   ]
  },
  {
   "cell_type": "code",
   "execution_count": null,
   "id": "8a8acdc5",
   "metadata": {},
   "outputs": [],
   "source": []
  }
 ],
 "metadata": {
  "kernelspec": {
   "display_name": "Python 3 (ipykernel)",
   "language": "python",
   "name": "python3"
  },
  "language_info": {
   "codemirror_mode": {
    "name": "ipython",
    "version": 3
   },
   "file_extension": ".py",
   "mimetype": "text/x-python",
   "name": "python",
   "nbconvert_exporter": "python",
   "pygments_lexer": "ipython3",
   "version": "3.10.9"
  }
 },
 "nbformat": 4,
 "nbformat_minor": 5
}
