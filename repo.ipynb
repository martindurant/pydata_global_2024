{
 "cells": [
  {
   "cell_type": "code",
   "execution_count": null,
   "id": "48b276b2",
   "metadata": {},
   "outputs": [],
   "source": [
    "import pandas as pd\n",
    "import akimbo.pandas\n",
    "import numba\n",
    "import awkward as ak\n",
    "import numpy as np"
   ]
  },
  {
   "cell_type": "code",
   "execution_count": null,
   "id": "459d0ad6",
   "metadata": {},
   "outputs": [],
   "source": [
    "# from https://repo.anaconda.com/pkgs/main/linux-64/repodata.json\n",
    "df = pd.read_parquet(\"repodata.parquet\", dtype_backend=\"pyarrow\")\n",
    "df"
   ]
  },
  {
   "cell_type": "code",
   "execution_count": null,
   "id": "7f2c9f58",
   "metadata": {},
   "outputs": [],
   "source": [
    "df.dtypes"
   ]
  },
  {
   "cell_type": "code",
   "execution_count": null,
   "id": "5c748cb4",
   "metadata": {},
   "outputs": [],
   "source": [
    "# normal dataframe things - could groupby here\n",
    "df.license_family.str.upper().value_counts()"
   ]
  },
  {
   "cell_type": "code",
   "execution_count": null,
   "id": "fbed35c3",
   "metadata": {},
   "outputs": [],
   "source": [
    "df.app_cli_opts[~df.app_cli_opts.isnull()][:2].tolist()"
   ]
  },
  {
   "cell_type": "code",
   "execution_count": null,
   "id": "ce6820e2",
   "metadata": {},
   "outputs": [],
   "source": [
    "df.depends[:1].tolist()  # a single row"
   ]
  },
  {
   "cell_type": "code",
   "execution_count": null,
   "id": "149152ad",
   "metadata": {},
   "outputs": [],
   "source": [
    "def discr(arr):\n",
    "    return  ak.any(np.logical_and(\n",
    "        arr.depends.name == \"numpy\", \n",
    "        ak.firsts(arr.depends.versions, axis=-1) == 2), axis=-1)\n",
    "\n",
    "%timeit df.ak.apply(discr).sum()\n",
    "df.ak.apply(discr).sum()"
   ]
  },
  {
   "cell_type": "code",
   "execution_count": null,
   "id": "62008968",
   "metadata": {},
   "outputs": [],
   "source": [
    "df.ak.array[discr(df.ak.array)][:1].tolist()"
   ]
  },
  {
   "cell_type": "code",
   "execution_count": null,
   "id": "76d428a1",
   "metadata": {},
   "outputs": [],
   "source": [
    "def num_numpy2(arr):\n",
    "    \"\"\"How many packages mention numpy V2 explicitly\"\"\"\n",
    "    count = 0\n",
    "    for package in arr:\n",
    "        for depends in package:\n",
    "            if (\n",
    "                    depends is not None\n",
    "                    and depends[\"name\"] == \"numpy\"\n",
    "                    and len(depends[\"versions\"]) > 0\n",
    "                    and depends[\"versions\"][0] == 2\n",
    "            ):\n",
    "                count += 1\n",
    "    return count\n",
    "\n",
    "\n",
    "np2 = numba.njit(num_numpy2)\n"
   ]
  },
  {
   "cell_type": "code",
   "execution_count": null,
   "id": "8ebcf092",
   "metadata": {},
   "outputs": [],
   "source": [
    "num_numpy2(df.depends)  # same as .apply or filter/map/sum"
   ]
  },
  {
   "cell_type": "code",
   "execution_count": null,
   "id": "dda7c0cc",
   "metadata": {},
   "outputs": [],
   "source": [
    "df.depends.ak.apply(np2)"
   ]
  },
  {
   "cell_type": "code",
   "execution_count": null,
   "id": "034a2bdb",
   "metadata": {},
   "outputs": [],
   "source": [
    "%timeit num_numpy2(df.depends)\n",
    "%timeit df.depends.ak.apply(np2)"
   ]
  },
  {
   "cell_type": "code",
   "execution_count": null,
   "id": "f0ea9eb0",
   "metadata": {},
   "outputs": [],
   "source": [
    "df2 = df.explode(\"depends\").depends.apply(pd.Series).rename(columns={\"name\": \"dep_name\"})\n",
    "df2"
   ]
  },
  {
   "cell_type": "code",
   "execution_count": null,
   "id": "f3a1dfd6",
   "metadata": {},
   "outputs": [],
   "source": [
    "df3 = df.join(df2).explode(\"versions\")"
   ]
  },
  {
   "cell_type": "code",
   "execution_count": null,
   "id": "d66dd9fa",
   "metadata": {
    "scrolled": true
   },
   "outputs": [],
   "source": [
    "df3"
   ]
  },
  {
   "cell_type": "code",
   "execution_count": null,
   "id": "657e4982",
   "metadata": {},
   "outputs": [],
   "source": [
    "print(\"original\", df.memory_usage(deep=True).sum() // 1e6, \"MB\")\n",
    "print(\"exploded\", df3.memory_usage(deep=True).sum() // 1e6, \"MB\")"
   ]
  },
  {
   "cell_type": "code",
   "execution_count": null,
   "id": "a16035ef",
   "metadata": {},
   "outputs": [],
   "source": [
    "%timeit df3[df3.dep_name == \"numpy\"].groupby([\"sha256\"]).versions.first().value_counts()\n",
    "df3[df3.dep_name == \"numpy\"].groupby([\"sha256\"]).versions.first().value_counts()"
   ]
  },
  {
   "cell_type": "code",
   "execution_count": null,
   "id": "2eaf9217",
   "metadata": {},
   "outputs": [],
   "source": []
  }
 ],
 "metadata": {
  "kernelspec": {
   "display_name": "Python 3 (ipykernel)",
   "language": "python",
   "name": "python3"
  },
  "language_info": {
   "codemirror_mode": {
    "name": "ipython",
    "version": 3
   },
   "file_extension": ".py",
   "mimetype": "text/x-python",
   "name": "python",
   "nbconvert_exporter": "python",
   "pygments_lexer": "ipython3",
   "version": "3.10.9"
  }
 },
 "nbformat": 4,
 "nbformat_minor": 5
}
